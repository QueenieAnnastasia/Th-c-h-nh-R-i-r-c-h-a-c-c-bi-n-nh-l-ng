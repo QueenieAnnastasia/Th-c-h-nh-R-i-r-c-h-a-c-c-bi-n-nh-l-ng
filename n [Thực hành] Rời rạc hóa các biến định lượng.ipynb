{
 "cells": [
  {
   "cell_type": "code",
   "execution_count": null,
   "id": "e0f8681a",
   "metadata": {},
   "outputs": [],
   "source": [
    "# Khai báo thư viện cần dùng"
   ]
  },
  {
   "cell_type": "code",
   "execution_count": 2,
   "id": "4afb8293",
   "metadata": {},
   "outputs": [],
   "source": [
    "import pandas as pd\n",
    "import numpy as np"
   ]
  },
  {
   "cell_type": "markdown",
   "id": "d87ee158",
   "metadata": {},
   "source": [
    "Giả sử ta có dữ liệu về một nhóm người trong một nghiên cứu và muốn nhóm họ thành các nhóm tuổi riêng biệt`"
   ]
  },
  {
   "cell_type": "code",
   "execution_count": 5,
   "id": "6b889e44",
   "metadata": {},
   "outputs": [],
   "source": [
    "ages = [20, 22, 25, 27, 21, 23, 37, 31, 61, 45, 41, 32]"
   ]
  },
  {
   "cell_type": "markdown",
   "id": "2d173a2d",
   "metadata": {},
   "source": [
    "Chia chúng thành các nhóm từ 18 đến 25, 26 đến 35, 36 đến 60 và cuối cùng là 61 trở lên"
   ]
  },
  {
   "cell_type": "code",
   "execution_count": 4,
   "id": "2ed5a819",
   "metadata": {},
   "outputs": [],
   "source": [
    "# định nghĩa khoảng giá trị các nhóm\n",
    "bins = [18, 25, 35, 60, 100]"
   ]
  },
  {
   "cell_type": "code",
   "execution_count": 6,
   "id": "6948354f",
   "metadata": {},
   "outputs": [],
   "source": [
    "# thực hiện rời rạc hóa\n",
    "cats = pd.cut(ages, bins)"
   ]
  },
  {
   "cell_type": "code",
   "execution_count": 7,
   "id": "f58f56ce",
   "metadata": {},
   "outputs": [
    {
     "data": {
      "text/plain": [
       "[(18, 25], (18, 25], (18, 25], (25, 35], (18, 25], ..., (25, 35], (60, 100], (35, 60], (35, 60], (25, 35]]\n",
       "Length: 12\n",
       "Categories (4, interval[int64, right]): [(18, 25] < (25, 35] < (35, 60] < (60, 100]]"
      ]
     },
     "execution_count": 7,
     "metadata": {},
     "output_type": "execute_result"
    }
   ],
   "source": [
    "cats\n"
   ]
  },
  {
   "cell_type": "code",
   "execution_count": 8,
   "id": "f65b5364",
   "metadata": {},
   "outputs": [
    {
     "data": {
      "text/plain": [
       "array([0, 0, 0, 1, 0, 0, 2, 1, 3, 2, 2, 1], dtype=int8)"
      ]
     },
     "execution_count": 8,
     "metadata": {},
     "output_type": "execute_result"
    }
   ],
   "source": [
    "# lấy ra index của nhóm tương ứng với các phần tử\n",
    "cats.codes"
   ]
  },
  {
   "cell_type": "code",
   "execution_count": 9,
   "id": "abe2fde4",
   "metadata": {},
   "outputs": [
    {
     "data": {
      "text/plain": [
       "IntervalIndex([(18, 25], (25, 35], (35, 60], (60, 100]], dtype='interval[int64, right]')"
      ]
     },
     "execution_count": 9,
     "metadata": {},
     "output_type": "execute_result"
    }
   ],
   "source": [
    "# lấy ra các nhóm\n",
    "cats.categories"
   ]
  },
  {
   "cell_type": "code",
   "execution_count": 10,
   "id": "51cb9aa8",
   "metadata": {},
   "outputs": [
    {
     "data": {
      "text/plain": [
       "(18, 25]     5\n",
       "(25, 35]     3\n",
       "(35, 60]     3\n",
       "(60, 100]    1\n",
       "dtype: int64"
      ]
     },
     "execution_count": 10,
     "metadata": {},
     "output_type": "execute_result"
    }
   ],
   "source": [
    "# thống kê số lượng phần tử ở mỗi nhóm\n",
    "pd.value_counts(cats)"
   ]
  },
  {
   "cell_type": "code",
   "execution_count": 11,
   "id": "4d619861",
   "metadata": {},
   "outputs": [
    {
     "data": {
      "text/plain": [
       "[[18, 26), [18, 26), [18, 26), [26, 36), [18, 26), ..., [26, 36), [61, 100), [36, 61), [36, 61), [26, 36)]\n",
       "Length: 12\n",
       "Categories (4, interval[int64, left]): [[18, 26) < [26, 36) < [36, 61) < [61, 100)]"
      ]
     },
     "execution_count": 11,
     "metadata": {},
     "output_type": "execute_result"
    }
   ],
   "source": [
    "pd.cut(ages, [18, 26, 36, 61, 100], right=False)\n",
    "#  thay đổi phía bị đóng bằng cách truyền vào tham số"
   ]
  },
  {
   "cell_type": "code",
   "execution_count": 12,
   "id": "05cb3e43",
   "metadata": {},
   "outputs": [
    {
     "data": {
      "text/plain": [
       "['Youth', 'Youth', 'Youth', 'YoungAdult', 'Youth', ..., 'YoungAdult', 'Senior', 'MiddleAged', 'MiddleAged', 'YoungAdult']\n",
       "Length: 12\n",
       "Categories (4, object): ['Youth' < 'YoungAdult' < 'MiddleAged' < 'Senior']"
      ]
     },
     "execution_count": 12,
     "metadata": {},
     "output_type": "execute_result"
    }
   ],
   "source": [
    "# danh sách nhãn\n",
    "group_names = ['Youth', 'YoungAdult', 'MiddleAged', 'Senior']\n",
    "\n",
    "pd.cut(ages, bins, labels=group_names)"
   ]
  },
  {
   "cell_type": "code",
   "execution_count": 15,
   "id": "3e80f15d",
   "metadata": {},
   "outputs": [],
   "source": [
    "# sinh dữ liệu ngẫu nhiên gồm 20 phần tử\n",
    "data = np.random.rand(20)"
   ]
  },
  {
   "cell_type": "code",
   "execution_count": 16,
   "id": "bf68a2c8",
   "metadata": {},
   "outputs": [
    {
     "data": {
      "text/plain": [
       "[(0.5, 0.71], (0.3, 0.5], (0.3, 0.5], (0.3, 0.5], (0.3, 0.5], ..., (0.71, 0.91], (0.71, 0.91], (0.088, 0.3], (0.088, 0.3], (0.088, 0.3]]\n",
       "Length: 20\n",
       "Categories (4, interval[float64, right]): [(0.088, 0.3] < (0.3, 0.5] < (0.5, 0.71] < (0.71, 0.91]]"
      ]
     },
     "execution_count": 16,
     "metadata": {},
     "output_type": "execute_result"
    }
   ],
   "source": [
    "cut_data = pd.cut(data, 4, precision=2)\n",
    "cut_data"
   ]
  },
  {
   "cell_type": "code",
   "execution_count": 17,
   "id": "04ef62dc",
   "metadata": {},
   "outputs": [
    {
     "data": {
      "text/plain": [
       "(0.3, 0.5]      8\n",
       "(0.088, 0.3]    5\n",
       "(0.71, 0.91]    4\n",
       "(0.5, 0.71]     3\n",
       "dtype: int64"
      ]
     },
     "execution_count": 17,
     "metadata": {},
     "output_type": "execute_result"
    }
   ],
   "source": [
    "pd.value_counts(cut_data)\n"
   ]
  },
  {
   "cell_type": "code",
   "execution_count": 18,
   "id": "8a92caeb",
   "metadata": {},
   "outputs": [],
   "source": [
    " # sinh ngẫu nhiễn 1000 điểm dữ liệu\n",
    " data = np.random.randn(1000)"
   ]
  },
  {
   "cell_type": "code",
   "execution_count": 19,
   "id": "10ada558",
   "metadata": {},
   "outputs": [],
   "source": [
    "# thực hiện hàm qcut trên dữ liệu vừa sinh ra\n",
    "cats = pd.qcut(data, 4)"
   ]
  },
  {
   "cell_type": "code",
   "execution_count": 20,
   "id": "236d071c",
   "metadata": {},
   "outputs": [
    {
     "data": {
      "text/plain": [
       "[(0.731, 3.215], (0.731, 3.215], (0.731, 3.215], (0.0171, 0.731], (-0.678, 0.0171], ..., (0.0171, 0.731], (-0.678, 0.0171], (-0.678, 0.0171], (0.0171, 0.731], (0.0171, 0.731]]\n",
       "Length: 1000\n",
       "Categories (4, interval[float64, right]): [(-3.577, -0.678] < (-0.678, 0.0171] < (0.0171, 0.731] < (0.731, 3.215]]"
      ]
     },
     "execution_count": 20,
     "metadata": {},
     "output_type": "execute_result"
    }
   ],
   "source": [
    "cats\n"
   ]
  },
  {
   "cell_type": "code",
   "execution_count": 21,
   "id": "d0deea91",
   "metadata": {},
   "outputs": [
    {
     "data": {
      "text/plain": [
       "(-3.577, -0.678]    250\n",
       "(-0.678, 0.0171]    250\n",
       "(0.0171, 0.731]     250\n",
       "(0.731, 3.215]      250\n",
       "dtype: int64"
      ]
     },
     "execution_count": 21,
     "metadata": {},
     "output_type": "execute_result"
    }
   ],
   "source": [
    "#thống kê số lượng phần tử\n",
    "pd.value_counts(cats)"
   ]
  },
  {
   "cell_type": "code",
   "execution_count": 23,
   "id": "1822739c",
   "metadata": {},
   "outputs": [
    {
     "data": {
      "text/plain": [
       "[(1.345, 3.215], (0.0171, 1.345], (0.0171, 1.345], (0.0171, 1.345], (-1.252, 0.0171], ..., (0.0171, 1.345], (-1.252, 0.0171], (-1.252, 0.0171], (0.0171, 1.345], (0.0171, 1.345]]\n",
       "Length: 1000\n",
       "Categories (4, interval[float64, right]): [(-3.577, -1.252] < (-1.252, 0.0171] < (0.0171, 1.345] < (1.345, 3.215]]"
      ]
     },
     "execution_count": 23,
     "metadata": {},
     "output_type": "execute_result"
    }
   ],
   "source": [
    "pd.qcut(data, [0, 0.1, 0.5, 0.9, 1.])"
   ]
  }
 ],
 "metadata": {
  "kernelspec": {
   "display_name": "Python 3 (ipykernel)",
   "language": "python",
   "name": "python3"
  },
  "language_info": {
   "codemirror_mode": {
    "name": "ipython",
    "version": 3
   },
   "file_extension": ".py",
   "mimetype": "text/x-python",
   "name": "python",
   "nbconvert_exporter": "python",
   "pygments_lexer": "ipython3",
   "version": "3.9.12"
  }
 },
 "nbformat": 4,
 "nbformat_minor": 5
}
